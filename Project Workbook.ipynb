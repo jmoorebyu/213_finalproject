{
 "cells": [
  {
   "cell_type": "markdown",
   "metadata": {},
   "source": [
    "testing"
   ]
  },
  {
   "cell_type": "markdown",
   "metadata": {},
   "source": [
    "Reading in the csv"
   ]
  },
  {
   "cell_type": "code",
   "execution_count": 4,
   "metadata": {},
   "outputs": [],
   "source": [
    "import numpy as np, pandas as pd, re\n",
    "from textblob import TextBlob\n",
    "from sklearn.feature_extraction.text import CountVectorizer as cntvec\n",
    "from sklearn.feature_extraction.text import TfidfTransformer as tftrans"
   ]
  },
  {
   "cell_type": "code",
   "execution_count": 67,
   "metadata": {},
   "outputs": [],
   "source": [
    "tweets = pd.read_csv(r\"C:\\Users\\user\\Downloads\\politcian_trialdata.csv\")"
   ]
  },
  {
   "cell_type": "markdown",
   "metadata": {},
   "source": [
    "Creating functions that clean the text and export polarity"
   ]
  },
  {
   "cell_type": "code",
   "execution_count": 11,
   "metadata": {},
   "outputs": [],
   "source": [
    "def clean_tweet(tweet):\n",
    "    '''\n",
    "    Utility function to clean the text in a tweet by removing \n",
    "    links and special characters using regex.\n",
    "    '''\n",
    "    return ' '.join(re.sub(\"(@[A-Za-z0-9]+)|([^0-9A-Za-z \\t])|(\\w+:\\/\\/\\S+)\", \" \", tweet).split())\n",
    "\n",
    "def analize_sentiment_polarity(tweet):\n",
    "    '''\n",
    "    Utility function to classify the polarity of a tweet\n",
    "    using textblob.\n",
    "    '''\n",
    "    analysis = TextBlob(clean_tweet(tweet))\n",
    "    return analysis.sentiment.polarity \n"
   ]
  },
  {
   "cell_type": "code",
   "execution_count": 37,
   "metadata": {},
   "outputs": [],
   "source": [
    "def Convert(string): \n",
    "    li = list(string.split(\"', '\")) \n",
    "    return li"
   ]
  },
  {
   "cell_type": "code",
   "execution_count": 68,
   "metadata": {},
   "outputs": [
    {
     "name": "stderr",
     "output_type": "stream",
     "text": [
      "C:\\Users\\user\\Anaconda3\\lib\\site-packages\\ipykernel_launcher.py:2: SettingWithCopyWarning: \n",
      "A value is trying to be set on a copy of a slice from a DataFrame\n",
      "\n",
      "See the caveats in the documentation: http://pandas.pydata.org/pandas-docs/stable/indexing.html#indexing-view-versus-copy\n",
      "  \n"
     ]
    }
   ],
   "source": [
    "for x in range(0, len(tweets['Comments'])):\n",
    "    tweets['Comments'][x] = Convert(tweets['Comments'][x])"
   ]
  },
  {
   "cell_type": "code",
   "execution_count": 77,
   "metadata": {},
   "outputs": [
    {
     "data": {
      "text/plain": [
       "True"
      ]
     },
     "execution_count": 77,
     "metadata": {},
     "output_type": "execute_result"
    }
   ],
   "source": [
    "tweets['Comments'][0] == ['[]']"
   ]
  },
  {
   "cell_type": "code",
   "execution_count": 85,
   "metadata": {},
   "outputs": [
    {
     "name": "stderr",
     "output_type": "stream",
     "text": [
      "C:\\Users\\user\\Anaconda3\\lib\\site-packages\\ipykernel_launcher.py:10: SettingWithCopyWarning: \n",
      "A value is trying to be set on a copy of a slice from a DataFrame\n",
      "\n",
      "See the caveats in the documentation: http://pandas.pydata.org/pandas-docs/stable/indexing.html#indexing-view-versus-copy\n",
      "  # Remove the CWD from sys.path while we load stuff.\n",
      "C:\\Users\\user\\Anaconda3\\lib\\site-packages\\ipykernel_launcher.py:14: SettingWithCopyWarning: \n",
      "A value is trying to be set on a copy of a slice from a DataFrame\n",
      "\n",
      "See the caveats in the documentation: http://pandas.pydata.org/pandas-docs/stable/indexing.html#indexing-view-versus-copy\n",
      "  \n",
      "C:\\Users\\user\\Anaconda3\\lib\\site-packages\\ipykernel_launcher.py:8: SettingWithCopyWarning: \n",
      "A value is trying to be set on a copy of a slice from a DataFrame\n",
      "\n",
      "See the caveats in the documentation: http://pandas.pydata.org/pandas-docs/stable/indexing.html#indexing-view-versus-copy\n",
      "  \n",
      "C:\\Users\\user\\Anaconda3\\lib\\site-packages\\ipykernel_launcher.py:12: SettingWithCopyWarning: \n",
      "A value is trying to be set on a copy of a slice from a DataFrame\n",
      "\n",
      "See the caveats in the documentation: http://pandas.pydata.org/pandas-docs/stable/indexing.html#indexing-view-versus-copy\n",
      "  if sys.path[0] == '':\n"
     ]
    }
   ],
   "source": [
    "tweets['Avg_Sent'] = np.NaN\n",
    "tweets['SD_Sent'] = np.NaN\n",
    "for x in range(0, len(tweets['Comments'])):\n",
    "    for y in range(0, len(tweets['Comments'][x])):\n",
    "        if tweets['Comments'][x]!= ['[]']:\n",
    "            tweets['Comments'][x][y] = analize_sentiment_polarity(clean_tweet(tweets['Comments'][x][y]))\n",
    "    try:\n",
    "        tweets['Avg_Sent'][x] = np.mean(tweets['Comments'][x])\n",
    "    except: \n",
    "        tweets['Avg_Sent'][x] = np.NaN\n",
    "    try:\n",
    "        tweets['SD_Sent'][x] = np.std(tweets['Comments'][y])  \n",
    "    except:\n",
    "        tweets['SD_Sent'][x] = np.NaN\n",
    "    "
   ]
  },
  {
   "cell_type": "code",
   "execution_count": 111,
   "metadata": {},
   "outputs": [
    {
     "data": {
      "text/plain": [
       "<matplotlib.axes._subplots.AxesSubplot at 0x1deed7c03c8>"
      ]
     },
     "execution_count": 111,
     "metadata": {},
     "output_type": "execute_result"
    },
    {
     "data": {
      "image/png": "[encoded data removed]",
      "text/plain": [
       "<Figure size 432x288 with 1 Axes>"
      ]
     },
     "metadata": {
      "needs_background": "light"
     },
     "output_type": "display_data"
    }
   ],
   "source": [
    "mylist = list()\n",
    "for x in range(0, len(tweets['Comments'])):\n",
    "    mylist.append(len(tweets['Comments'][x]))\n",
    "pd.Series(mylist).hist(bins=100)"
   ]
  },
  {
   "cell_type": "code",
   "execution_count": 90,
   "metadata": {},
   "outputs": [],
   "source": [
    "import seaborn as sns"
   ]
  },
  {
   "cell_type": "code",
   "execution_count": 103,
   "metadata": {},
   "outputs": [
    {
     "data": {
      "text/plain": [
       "<matplotlib.axes._subplots.AxesSubplot at 0x1deed83c5c0>"
      ]
     },
     "execution_count": 103,
     "metadata": {},
     "output_type": "execute_result"
    },
    {
     "data": {
      "image/png": "[encoded data removed]",
      "text/plain": [
       "<Figure size 432x288 with 1 Axes>"
      ]
     },
     "metadata": {
      "needs_background": "light"
     },
     "output_type": "display_data"
    }
   ],
   "source": [
    "tweets['Avg_Sent'].hist()"
   ]
  },
  {
   "cell_type": "code",
   "execution_count": 114,
   "metadata": {},
   "outputs": [
    {
     "data": {
      "text/plain": [
       "0.062188737766197356"
      ]
     },
     "execution_count": 114,
     "metadata": {},
     "output_type": "execute_result"
    }
   ],
   "source": [
    "tweets['Avg_Sent'].mean()"
   ]
  },
  {
   "cell_type": "code",
   "execution_count": 117,
   "metadata": {},
   "outputs": [],
   "source": [
    "from sklearn.feature_extraction.text import CountVectorizer as cntvec\n",
    "from sklearn.feature_extraction.text import TfidfTransformer as tftrans"
   ]
  },
  {
   "cell_type": "code",
   "execution_count": 247,
   "metadata": {},
   "outputs": [],
   "source": [
    "vectorizer = cntvec()\n",
    "result = vectorizer.fit_transform(tweets['Text'])\n",
    "wordtallys = pd.DataFrame(data=result.toarray(),columns=vectorizer.get_feature_names())\n",
    "todrop = list()\n",
    "mincount = .05\n",
    "maxcount = np.percentile(wordtallys.mean(),99.7)\n",
    "for x in range(0, len(wordtallys.columns)):\n",
    "    if wordtallys.iloc[:,x].mean() < mincount:\n",
    "        todrop.append(x)\n",
    "    if wordtallys.iloc[:,x].mean() > maxcount:\n",
    "        todrop.append(x)\n",
    "\n",
    "shorttallys = wordtallys.drop(wordtallys.columns[todrop], axis=1)"
   ]
  },
  {
   "cell_type": "code",
   "execution_count": 248,
   "metadata": {},
   "outputs": [],
   "source": [
    "tweetswithfeats = pd.concat([shorttallys,tweets],axis=1)"
   ]
  },
  {
   "cell_type": "code",
   "execution_count": 290,
   "metadata": {},
   "outputs": [
    {
     "name": "stderr",
     "output_type": "stream",
     "text": [
      "C:\\Users\\user\\Anaconda3\\lib\\site-packages\\sklearn\\preprocessing\\data.py:625: DataConversionWarning: Data with input dtype int64, float64 were all converted to float64 by StandardScaler.\n",
      "  return self.partial_fit(X, y)\n",
      "C:\\Users\\user\\Anaconda3\\lib\\site-packages\\ipykernel_launcher.py:6: DataConversionWarning: Data with input dtype int64, float64 were all converted to float64 by StandardScaler.\n",
      "  \n"
     ]
    }
   ],
   "source": [
    "numeric_stuff = tweetswithfeats.select_dtypes(include=[\"float64\",\"int64\"])\n",
    "numeric_stuff = numeric_stuff[numeric_stuff['Avg_Sent'].isnull()==False]\n",
    "from sklearn.preprocessing import StandardScaler as sdscale\n",
    "scaler =sdscale()\n",
    "scaler.fit(numeric_stuff)\n",
    "std_features = pd.DataFrame(scaler.transform(numeric_stuff))\n",
    "std_features.columns=numeric_stuff.columns\n",
    "target = std_features['Avg_Sent']\n",
    "std_features = std_features.drop(columns=['Avg_Sent','SD_Sent'])"
   ]
  },
  {
   "cell_type": "code",
   "execution_count": 286,
   "metadata": {},
   "outputs": [
    {
     "data": {
      "text/plain": [
       "great         0.138758\n",
       "should        0.087439\n",
       "report        0.081306\n",
       "full          0.078919\n",
       "trump         0.077587\n",
       "an            0.076428\n",
       "about         0.071739\n",
       "mueller       0.070511\n",
       "be            0.069422\n",
       "proud         0.065606\n",
       "more          0.061112\n",
       "help          0.059130\n",
       "so            0.053292\n",
       "Unnamed: 0    0.046604\n",
       "Retweets      0.045467\n",
       "Likes         0.044350\n",
       "president     0.044343\n",
       "public        0.041556\n",
       "your          0.039634\n",
       "people        0.039401\n",
       "SD_Sent       0.037894\n",
       "at            0.036469\n",
       "congress      0.035550\n",
       "their         0.035110\n",
       "americans     0.034771\n",
       "not           0.033272\n",
       "special       0.032418\n",
       "these         0.032006\n",
       "who           0.030163\n",
       "women         0.029979\n",
       "his           0.029048\n",
       "Length        0.028067\n",
       "by            0.026524\n",
       "health        0.025795\n",
       "will          0.025101\n",
       "from          0.024046\n",
       "was           0.021404\n",
       "house         0.019694\n",
       "american      0.018925\n",
       "but           0.018300\n",
       "thank         0.016514\n",
       "now           0.015154\n",
       "what          0.014738\n",
       "has           0.014025\n",
       "as            0.012784\n",
       "work          0.011131\n",
       "here          0.011010\n",
       "all           0.010885\n",
       "out           0.010155\n",
       "must          0.008907\n",
       "care          0.008182\n",
       "need          0.007523\n",
       "act           0.006358\n",
       "new           0.005502\n",
       "made          0.004028\n",
       "have          0.003996\n",
       "year          0.003665\n",
       "they          0.002212\n",
       "can           0.000366\n",
       "Name: Avg_Sent, dtype: float64"
      ]
     },
     "execution_count": 286,
     "metadata": {},
     "output_type": "execute_result"
    }
   ],
   "source": [
    "myseries = pd.Series(numeric_stuff.corr()['Avg_Sent'])\n",
    "abs(myseries).sort_values(ascending=False)[1:]"
   ]
  },
  {
   "cell_type": "code",
   "execution_count": 298,
   "metadata": {},
   "outputs": [
    {
     "name": "stdout",
     "output_type": "stream",
     "text": [
      "0.9966360663294254\n",
      "0.06\n",
      "0.99\n"
     ]
    },
    {
     "data": {
      "text/plain": [
       "0.02668918783636609"
      ]
     },
     "execution_count": 298,
     "metadata": {},
     "output_type": "execute_result"
    }
   ],
   "source": [
    "from sklearn.linear_model import ElasticNetCV\n",
    "\n",
    "# l1 ratio of zero is l2 and visa-versa \n",
    "# alphas are how much to weight regularization\n",
    "clf = ElasticNetCV(l1_ratio=[.99], alphas=[.06], cv=5, tol=10**-5)\n",
    "clf.fit(std_features, target)\n",
    "train_predictions = clf.predict(std_features)\n",
    "print(clf.mse_path_.mean())\n",
    "print(clf.alpha_)\n",
    "print(clf.l1_ratio_)\n",
    "clf.score(std_features, target)"
   ]
  },
  {
   "cell_type": "code",
   "execution_count": 304,
   "metadata": {},
   "outputs": [
    {
     "data": {
      "text/plain": [
       "0.0774885737689758"
      ]
     },
     "execution_count": 304,
     "metadata": {},
     "output_type": "execute_result"
    }
   ],
   "source": [
    "clf.coef_[16]"
   ]
  },
  {
   "cell_type": "code",
   "execution_count": 306,
   "metadata": {},
   "outputs": [
    {
     "data": {
      "text/plain": [
       "'great'"
      ]
     },
     "execution_count": 306,
     "metadata": {},
     "output_type": "execute_result"
    }
   ],
   "source": [
    "std_features.columns[16]"
   ]
  }
 ],
 "metadata": {
  "kernelspec": {
   "display_name": "Python 3",
   "language": "python",
   "name": "python3"
  },
  "language_info": {
   "codemirror_mode": {
    "name": "ipython",
    "version": 3
   },
   "file_extension": ".py",
   "mimetype": "text/x-python",
   "name": "python",
   "nbconvert_exporter": "python",
   "pygments_lexer": "ipython3",
   "version": "3.7.1"
  }
 },
 "nbformat": 4,
 "nbformat_minor": 2
}
